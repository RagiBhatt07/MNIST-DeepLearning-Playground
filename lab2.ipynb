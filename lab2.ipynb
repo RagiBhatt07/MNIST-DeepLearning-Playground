{
 "cells": [
  {
   "cell_type": "markdown",
   "metadata": {},
   "source": [
    "Students:\n",
    "\n",
    "- ...\n",
    "- ...\n",
    "- ...\n",
    "\n",
    "# Deep Learning - Lab Exercise 2\n",
    "\n",
    "**WARNING:** you must have finished the first exercise before this one as you will re-use parts of the code.\n",
    "\n",
    "In the first lab exercise, we built a simple linear classifier.\n",
    "Although it can give reasonable results on the MNIST dataset (~92.5% of accuracy), deeper neural networks can achieve more the 99% accuracy.\n",
    "However, it can quickly become really impracical to explicitly code forward and backward passes.\n",
    "Hence, it is useful to rely on an auto-diff library where we specify the forward pass once, and the backward pass is automatically deduced from the computational graph structure.\n",
    "\n",
    "In this lab exercise, we will build a small and simple auto-diff lib that mimics the autograd mechanism from Pytorch (of course, we will simplify a lot!)\n"
   ]
  },
  {
   "cell_type": "code",
   "execution_count": 1,
   "metadata": {},
   "outputs": [],
   "source": [
    "# import libs that we will use\n",
    "import os\n",
    "import numpy as np\n",
    "import matplotlib.pyplot as plt\n",
    "import math\n",
    "\n",
    "# To load the data we will use the script of Gaetan Marceau Caron\n",
    "# You can download it from the course webiste and move it to the same directory that contains this ipynb file\n",
    "import dataset_loader\n",
    "\n",
    "%matplotlib inline"
   ]
  },
  {
   "cell_type": "markdown",
   "metadata": {},
   "source": [
    "# Data"
   ]
  },
  {
   "cell_type": "code",
   "execution_count": 2,
   "metadata": {},
   "outputs": [],
   "source": [
    "# Download mnist dataset \n",
    "if(\"mnist.pkl.gz\" not in os.listdir(\".\")):\n",
    "    # this link doesn't work any more,\n",
    "    # seach on google for the file \"mnist.pkl.gz\"\n",
    "    # and download it\n",
    "    !wget http://deeplearning.net/data/mnist/mnist.pkl.gz\n",
    "\n",
    "# if you have it somewhere else, you can comment the lines above\n",
    "# and overwrite the path below\n",
    "mnist_path = \"./mnist.pkl.gz\""
   ]
  },
  {
   "cell_type": "code",
   "execution_count": 3,
   "metadata": {},
   "outputs": [],
   "source": [
    "# load the 3 splits\n",
    "train_data, dev_data, test_data = dataset_loader.load_mnist(mnist_path)"
   ]
  },
  {
   "cell_type": "code",
   "execution_count": 4,
   "metadata": {},
   "outputs": [
    {
     "name": "stdout",
     "output_type": "stream",
     "text": [
      "label: 4\n"
     ]
    },
    {
     "data": {
      "text/plain": [
       "<matplotlib.image.AxesImage at 0x2afd02d1e70>"
      ]
     },
     "execution_count": 4,
     "metadata": {},
     "output_type": "execute_result"
    },
    {
     "data": {
      "image/png": "[encoded data removed]",
      "text/plain": [
       "<Figure size 640x480 with 1 Axes>"
      ]
     },
     "metadata": {},
     "output_type": "display_data"
    }
   ],
   "source": [
    "index = 900\n",
    "label = train_data[1][index]\n",
    "picture = train_data[0][index]\n",
    "\n",
    "print(\"label: %i\" % label)\n",
    "plt.imshow(picture.reshape(28,28), cmap='Greys')"
   ]
  },
  {
   "cell_type": "markdown",
   "metadata": {},
   "source": [
    "# Computation nodes\n",
    "\n",
    "Instead of directly manipulating numpy arrays, we will manipulate abstraction that contains:\n",
    "- a value (i.e. a numpy array)\n",
    "- a bool indicating if we wish to compute the gradient with respect to the value\n",
    "- the gradient with respect to the value\n",
    "- the operation to call during backpropagation\n",
    "\n",
    "There will be two kind of nodes:\n",
    "- Tensor: a generic computation node\n",
    "- Parameter: a computation node that is used to store parameters of the network. Parameters are always leaf nodes, i.e. they cannot be build from other computation nodes.\n",
    "\n",
    "Our implementation of the backward pass will be really simple and incorrect in the general case (i.e. won't work with computation graph with loops).\n",
    "We will just apply the derivative function for a given tensor and then call the ones of its antecedents, recursively.\n",
    "This simple algorithm is good enough for this exercise.\n",
    "\n",
    "Note that a real implementation of backprop will store temporary values during forward that can be used during backward to improve computation speed. We do not do that here."
   ]
  },
  {
   "cell_type": "code",
   "execution_count": 5,
   "metadata": {},
   "outputs": [],
   "source": [
    "class Tensor:\n",
    "    def __init__(self, data, require_grad=False):\n",
    "        # test type of data: should be np array\n",
    "        if isinstance(data, float):\n",
    "            data = np.array([data,])\n",
    "        if type(data) != np.ndarray:\n",
    "            raise RuntimeError(\"Input should be a numpy array\")\n",
    "\n",
    "        # store data for this tensor\n",
    "        self.data = data\n",
    "        self.require_grad = require_grad\n",
    "        \n",
    "        # this values should be set to enable autograd!\n",
    "        self.gradient = None\n",
    "        self.d = None\n",
    "        self.backptr = None \n",
    "\n",
    "        \n",
    "    def zero_grad(self):\n",
    "        \"\"\"\n",
    "        Set the gradient of thie tensor to 0\n",
    "        \"\"\"\n",
    "        if self.require_grad:\n",
    "            self.gradient = np.zeros_like(self.data)\n",
    "            \n",
    "    def accumulate_gradient(self, gradient):\n",
    "        \"\"\"\n",
    "        Accumulte gradient for this tensor\n",
    "        \"\"\"\n",
    "        if gradient.shape != self.data.shape:\n",
    "            raise RuntimeError(\"Invalid gradient dimension\")\n",
    "\n",
    "        if self.gradient is None:\n",
    "            self.gradient = np.copy(gradient)\n",
    "        else:\n",
    "            self.gradient += gradient\n",
    "            \n",
    "    def backward(self, g=None):\n",
    "        \"\"\"\n",
    "        The backward pass!\n",
    "        If g != None, then g is the gradient for the current node.\n",
    "        i.e. g will be != None only for the loss output.\n",
    "        \n",
    "        You should call the function stored in self.d with correct arguments,\n",
    "        and then recursively call the backward methods of tensors in the backptr list if:\n",
    "        1. they require a gradient\n",
    "        2. they are of type Tensor: check with isinstance(o, Tensor)\n",
    "        \"\"\"\n",
    "        if not self.require_grad:  # stop right now if this node does not require a gradient\n",
    "            return\n",
    "        \n",
    "        if g is not None:\n",
    "            if isinstance(g, float):\n",
    "                g = np.array([g])\n",
    "            if type(g) != np.ndarray:\n",
    "                raise RuntimeError(\"Gradient should be a numpy array\")\n",
    "            if g.shape != self.data.shape:\n",
    "                raise RuntimeError(\"Gradient of different size than the value!\")\n",
    "                \n",
    "            self.gradient = g\n",
    "            \n",
    "        # TODO\n",
    "\n",
    "        # Call the function stored in self.d with correct arguments\n",
    "        self.d(self.backptr, self.gradient)\n",
    "\n",
    "         # Recursively call the backward methods of downstream tensors\n",
    "        q= self.backptr\n",
    "        while q != []:\n",
    "            tensor = q.pop(0)\n",
    "            if isinstance(tensor, Tensor) and tensor.require_grad and (tensor.d is not None) and (tensor.backptr is not None) :\n",
    "                tensor.d(tensor.backptr, tensor.gradient)\n",
    "                q.extend(tensor.backptr)\n",
    "                        \n",
    "        #raise RuntimeError(\"self.d not implemented\")\n",
    "    \n",
    "    \n",
    "class Parameter(Tensor):\n",
    "    \"\"\"\n",
    "    This class will be used to store parameters of the network only!\n",
    "    \"\"\"\n",
    "    def __init__(self, data, name=\"unamed\"):\n",
    "        super().__init__(data, require_grad=True)\n",
    "        self.name = name\n",
    "        \n",
    "    def backward(self):\n",
    "        raise RuntimeError(\"You cannot backprop from a Parameter node\")"
   ]
  },
  {
   "cell_type": "markdown",
   "metadata": {},
   "source": [
    "# Functions\n",
    "\n",
    "Functions manipulate tensors and build the required information for autograd.\n",
    "A function returns a Tensor that should have require_grad = True if at least of the arguments require a gradient."
   ]
  },
  {
   "cell_type": "code",
   "execution_count": 6,
   "metadata": {},
   "outputs": [],
   "source": [
    "def any_require_grad(l):\n",
    "    \"\"\"\n",
    "    Input:\n",
    "    - l: an iterable (e.g. a list)\n",
    "    Ouput:\n",
    "    - True if any tensor in the input requires a gradient\n",
    "    \"\"\"\n",
    "    return any(t.require_grad for t in l)"
   ]
  },
  {
   "cell_type": "code",
   "execution_count": 7,
   "metadata": {},
   "outputs": [],
   "source": [
    "# Here is an exemple with the ReLU\n",
    "def relu(x):\n",
    "    v = np.maximum(0, x.data)\n",
    "    \n",
    "    output = Tensor(v, require_grad=x.require_grad)\n",
    "    output.d = backward_relu\n",
    "    output.backptr = [x]\n",
    "    \n",
    "    return output\n",
    "\n",
    "def backward_relu(backptr, g):\n",
    "    x, = backptr\n",
    "    \n",
    "    # the gradient is accumulated in the arguments only if required\n",
    "    if x.require_grad:\n",
    "        x.accumulate_gradient(g * (x.data > 0))"
   ]
  },
  {
   "cell_type": "code",
   "execution_count": 8,
   "metadata": {},
   "outputs": [],
   "source": [
    "def tanh(x):\n",
    "    # TODO\n",
    "    v = np.sinh(x.data)/np.cosh(x.data)\n",
    "\n",
    "    output = Tensor(v, require_grad=x.require_grad)\n",
    "    output.d = backward_tanh\n",
    "    output.backptr = [x]\n",
    "\n",
    "    return output\n",
    "\n",
    "\n",
    "\n",
    "def backward_tanh(backptr, g):\n",
    "    # TODO\n",
    "    x, = backptr\n",
    "\n",
    "    if x.require_grad:\n",
    "        x.accumulate_gradient(g * (x.data > 0))\n",
    "        "
   ]
  },
  {
   "cell_type": "markdown",
   "metadata": {},
   "source": [
    "Next, we implement the affine transform operation.\n",
    "You can reuse the code from the first lab exercise, with one major difference: you have to compute the gradient with respect to x too!"
   ]
  },
  {
   "cell_type": "code",
   "execution_count": 9,
   "metadata": {},
   "outputs": [],
   "source": [
    "# Input:\n",
    "# - W: projection matrix\n",
    "# - b: bias\n",
    "# - x: input features\n",
    "# Output:\n",
    "# - vector\n",
    "def affine_transform(W, b, x):\n",
    "    # TODO\n",
    "    v = np.dot(W.data, x.data) + b.data\n",
    "    output = Tensor(v, require_grad=any_require_grad([W, b, x]))\n",
    "    output.d = backward_affine_transform\n",
    "    output.backptr = [W, b, x]\n",
    "    return output\n",
    "\n",
    "\n",
    "\n",
    "# Input:\n",
    "# - W: projection matrix\n",
    "# - b: bias\n",
    "# - x: input features\n",
    "# - g: incoming gradient\n",
    "# Output:\n",
    "# - g_W: gradient wrt W\n",
    "# - g_b: gradient wrt b\n",
    "# - g_x: gradient wrt x\n",
    "def backward_affine_transform(backptr, g):\n",
    "    W, b, x = backptr\n",
    "\n",
    "    # the gradient is accumulated in the arguments only if required\n",
    "    if W.require_grad:\n",
    "        W.accumulate_gradient(np.outer(g, x.data))\n",
    "    if b.require_grad:\n",
    "        b.accumulate_gradient(g)\n",
    "    if isinstance(x, Tensor) and x.require_grad:\n",
    "        # (10, 100) (10,) (100,) (10,)\n",
    "        #print(W.data.shape, b.data.shape, x.data.shape, g.shape)\n",
    "        x.accumulate_gradient(np.dot(W.data.T, g))\n",
    "    "
   ]
  },
  {
   "cell_type": "code",
   "execution_count": 10,
   "metadata": {},
   "outputs": [],
   "source": [
    "# Input:\n",
    "# - x: vector of logits\n",
    "# Output\n",
    "# - vector of probabilities\n",
    "def softmax(x):\n",
    "    # TODO\n",
    "    # to avoid overflow, we subtract the max value of x from each element of x\n",
    "    # this does not change the result of the softmax function\n",
    "    x = x - np.max(x)\n",
    "    exp_x = np.exp(x)\n",
    "    sum_exp_x = np.sum(exp_x)\n",
    "    return exp_x / sum_exp_x\n",
    "\n",
    "# Input:\n",
    "# - x: vector of logits\n",
    "# - gold: index of the gold class\n",
    "# Output:\n",
    "# - scalare equal to -log(softmax(x)[gold])\n",
    "def nll(x, gold):\n",
    "    # TODO\n",
    "    p = softmax(x.data)[gold]\n",
    "    output = Tensor(-np.log(p), require_grad=x.require_grad)\n",
    "    output.d = backward_nll\n",
    "    output.backptr = [x, gold]\n",
    "    return output\n",
    "\n",
    "\n",
    "# Input:\n",
    "# - x: vector of logits\n",
    "# - gold: index of the gold class\n",
    "# - gradient (scalar)\n",
    "# Output:\n",
    "# - gradient wrt x\n",
    "def backward_nll(backptr, g):\n",
    "    # TODO\n",
    "    x, gold = backptr\n",
    "    grad = softmax(x.data)\n",
    "    grad[gold] = grad[gold] - 1\n",
    "    grad = grad * g\n",
    "    if x.require_grad:\n",
    "        x.accumulate_gradient(grad)"
   ]
  },
  {
   "cell_type": "markdown",
   "metadata": {},
   "source": [
    "# Module\n",
    "\n",
    "Neural networks or parts of neural networks will be stored in Modules.\n",
    "They implement method to retrieve all parameters of the network and subnetwork."
   ]
  },
  {
   "cell_type": "code",
   "execution_count": 11,
   "metadata": {},
   "outputs": [],
   "source": [
    "class Module:\n",
    "    def __init__(self):\n",
    "        raise NotImplemented(\"\")\n",
    "        \n",
    "    def parameters(self):\n",
    "        ret = []\n",
    "        for name in dir(self):\n",
    "            o = self.__getattribute__(name)\n",
    "\n",
    "            if type(o) is Parameter:\n",
    "                ret.append(o)\n",
    "            if isinstance(o, Module) or isinstance(o, ModuleList):\n",
    "                ret.extend(o.parameters())\n",
    "        return ret\n",
    "\n",
    "# if you want to store a list of Parameters or Module,\n",
    "# you must store them in a ModuleList instead of a python list,\n",
    "# in order to collect the parameters correctly\n",
    "class ModuleList(list):\n",
    "    def parameters(self):\n",
    "        ret = []\n",
    "        for m in self:\n",
    "            if type(m) is Parameter:\n",
    "                ret.append(m)\n",
    "            elif isinstance(m, Module) or isinstance(m, ModuleList):\n",
    "                ret.extend(m.parameters())\n",
    "        return ret"
   ]
  },
  {
   "cell_type": "markdown",
   "metadata": {},
   "source": [
    "# Initialization and optimization"
   ]
  },
  {
   "cell_type": "code",
   "execution_count": 12,
   "metadata": {},
   "outputs": [],
   "source": [
    "def zero_init(b):\n",
    "    b[:] = 0.\n",
    "\n",
    "def glorot_init(W):\n",
    "    # TODO\n",
    "    W[:] = np.random.uniform(-np.sqrt(6. / (W.shape[0] + W.shape[1])),\n",
    "                             np.sqrt(6. / (W.shape[0] + W.shape[1])),\n",
    "                             W.shape)\n",
    "\n",
    "# Look at slides for the formula!\n",
    "def kaiming_init(W):\n",
    "    # TODO\n",
    "    W[:] = np.random.uniform(-np.sqrt(6. / W.shape[1]), +np.sqrt(6. / W.shape[1]))\n",
    "\n",
    "    "
   ]
  },
  {
   "cell_type": "code",
   "execution_count": 13,
   "metadata": {},
   "outputs": [],
   "source": [
    "# simple gradient descent optimizer\n",
    "class SGD:\n",
    "    def __init__(self, params, lr=0.1):\n",
    "        self.params = params\n",
    "        self.lr = lr\n",
    "        \n",
    "    def step(self):\n",
    "        for p in self.params:\n",
    "            p.data[:] = p.data - self.lr * p.gradient\n",
    "        \n",
    "    def zero_grad(self):\n",
    "        for p in self.params:\n",
    "            p.zero_grad()"
   ]
  },
  {
   "cell_type": "markdown",
   "metadata": {},
   "source": [
    "# Networks and training loop\n",
    "\n",
    "We first create a simple linear classifier, similar to the first lab exercise."
   ]
  },
  {
   "cell_type": "code",
   "execution_count": 14,
   "metadata": {},
   "outputs": [],
   "source": [
    "class LinearNetwork(Module):\n",
    "    def __init__(self, dim_input, dim_output):\n",
    "        # build the parameters\n",
    "        self.W = Parameter(np.ndarray((dim_output, dim_input)), name=\"W\")\n",
    "        self.b = Parameter(np.ndarray((dim_output,)), name=\"b\")\n",
    "        \n",
    "        self.init_parameters()\n",
    "        \n",
    "    def init_parameters(self):\n",
    "        # init parameters of the network (i.e W and b)\n",
    "        glorot_init(self.W.data)\n",
    "        zero_init(self.b.data)\n",
    "        \n",
    "    def forward(self, x):\n",
    "        return  affine_transform(self.W, self.b, x)"
   ]
  },
  {
   "cell_type": "code",
   "execution_count": 15,
   "metadata": {},
   "outputs": [
    {
     "data": {
      "text/plain": [
       "(50000, 784)"
      ]
     },
     "execution_count": 15,
     "metadata": {},
     "output_type": "execute_result"
    }
   ],
   "source": [
    "train_data[0].shape"
   ]
  },
  {
   "cell_type": "markdown",
   "metadata": {},
   "source": [
    "We will train several neural networks.\n",
    "Therefore, we encapsulate the training loop in a function.\n",
    "\n",
    "**warning**: you have to call optimizer.zero_grad() before each backward pass to reinitialize the gradient of the parameters!"
   ]
  },
  {
   "cell_type": "code",
   "execution_count": 16,
   "metadata": {},
   "outputs": [],
   "source": [
    "import random\n",
    "from tqdm import tqdm\n",
    "\n",
    "def training_loop(network, optimizer, train_data, dev_data, n_epochs=10):\n",
    "    for epoch in range(n_epochs):\n",
    "        # Shuffle the training data at the beginning of each epoch\n",
    "        train_data = list(zip(train_data[0], train_data[1]))\n",
    "        random.shuffle(train_data)\n",
    "        train_data = list(zip(*train_data))\n",
    "\n",
    "        train_loss = 0.0\n",
    "        train_accuracy = 0.0\n",
    "        for x, gold in tqdm(zip(train_data[0], train_data[1]), total=len(train_data[0])):\n",
    "            optimizer.zero_grad()\n",
    "            y = network.forward(x)\n",
    "            loss = nll(y, gold)\n",
    "            loss.backward(g=1.0)\n",
    "            optimizer.step()\n",
    "            train_loss += loss.data.item()\n",
    "            train_accuracy += np.argmax(y.data) == gold\n",
    "        print(\"Epoch %d, train loss: %f\" % (epoch, train_loss))\n",
    "        print(\"Train accuracy: %f\" % (train_accuracy / len(train_data[0])))\n",
    "\n",
    "\n",
    "        # evaluate on dev\n",
    "        for x_dev, gold_dev in zip(dev_data[0], dev_data[1]):\n",
    "            y_dev = network.forward(x_dev)\n",
    "            dev_loss = nll(y_dev, gold_dev)\n",
    "        print(\"Dev loss: %f\" % (dev_loss.data))\n",
    "\n",
    "        # dev accuracy\n",
    "        dev_accuracy = 0.0\n",
    "        for x_dev, gold_dev in zip(dev_data[0], dev_data[1]):\n",
    "            y_dev = network.forward(x_dev)\n",
    "            dev_accuracy += np.argmax(y_dev.data) == gold_dev\n",
    "        print(\"Dev accuracy: %f\" % (dev_accuracy / len(dev_data[0])))"
   ]
  },
  {
   "cell_type": "code",
   "execution_count": 17,
   "metadata": {},
   "outputs": [
    {
     "name": "stderr",
     "output_type": "stream",
     "text": [
      "100%|██████████| 50000/50000 [00:03<00:00, 13661.96it/s]\n"
     ]
    },
    {
     "name": "stdout",
     "output_type": "stream",
     "text": [
      "Epoch 0, train loss: 18807.331205\n",
      "Train accuracy: 0.891740\n",
      "Dev loss: 0.072073\n",
      "Dev accuracy: 0.917800\n"
     ]
    },
    {
     "name": "stderr",
     "output_type": "stream",
     "text": [
      "100%|██████████| 50000/50000 [00:03<00:00, 13539.27it/s]\n"
     ]
    },
    {
     "name": "stdout",
     "output_type": "stream",
     "text": [
      "Epoch 1, train loss: 15481.371253\n",
      "Train accuracy: 0.912140\n",
      "Dev loss: 0.025881\n",
      "Dev accuracy: 0.923600\n"
     ]
    },
    {
     "name": "stderr",
     "output_type": "stream",
     "text": [
      "100%|██████████| 50000/50000 [00:03<00:00, 13583.52it/s]\n"
     ]
    },
    {
     "name": "stdout",
     "output_type": "stream",
     "text": [
      "Epoch 2, train loss: 14902.548762\n",
      "Train accuracy: 0.915980\n",
      "Dev loss: 0.053116\n",
      "Dev accuracy: 0.921600\n"
     ]
    },
    {
     "name": "stderr",
     "output_type": "stream",
     "text": [
      "100%|██████████| 50000/50000 [00:03<00:00, 13447.82it/s]\n"
     ]
    },
    {
     "name": "stdout",
     "output_type": "stream",
     "text": [
      "Epoch 3, train loss: 14542.675720\n",
      "Train accuracy: 0.918200\n",
      "Dev loss: 0.035118\n",
      "Dev accuracy: 0.924600\n"
     ]
    },
    {
     "name": "stderr",
     "output_type": "stream",
     "text": [
      "100%|██████████| 50000/50000 [00:03<00:00, 13840.02it/s]\n"
     ]
    },
    {
     "name": "stdout",
     "output_type": "stream",
     "text": [
      "Epoch 4, train loss: 14255.158760\n",
      "Train accuracy: 0.919520\n",
      "Dev loss: 0.014394\n",
      "Dev accuracy: 0.919300\n"
     ]
    }
   ],
   "source": [
    "dim_input = 28*28\n",
    "dim_output = 10\n",
    "\n",
    "network = LinearNetwork(dim_input, dim_output)\n",
    "optimizer = SGD(network.parameters(), 0.01)\n",
    "\n",
    "training_loop(network, optimizer, train_data, dev_data, n_epochs=5)"
   ]
  },
  {
   "cell_type": "markdown",
   "metadata": {},
   "source": [
    "After you finished the linear network, you can move to a deep network!"
   ]
  },
  {
   "cell_type": "code",
   "execution_count": 35,
   "metadata": {},
   "outputs": [],
   "source": [
    "class DeepNetwork(Module):\n",
    "    def __init__(self, dim_input, dim_output, hidden_dim, n_layers, tanh=False):\n",
    "        assert n_layers > 1\n",
    "        self.W = ModuleList()\n",
    "        self.b = ModuleList()\n",
    "        self.tanh = tanh\n",
    "\n",
    "        self.W.append(Parameter(np.ndarray((hidden_dim, dim_input)), name=\"W_0\"))\n",
    "        self.b.append(Parameter(np.ndarray((hidden_dim,)), name=\"b_0\"))\n",
    "        \n",
    "        for i in range(1, n_layers-1):\n",
    "            self.W.append(Parameter(np.ndarray((hidden_dim, hidden_dim)), name=\"W%i\" % i))\n",
    "            self.b.append(Parameter(np.ndarray((hidden_dim,)), name=\"b%i\" % i))\n",
    "\n",
    "        self.output_layer = Parameter(np.ndarray((dim_output, hidden_dim)), name=\"output_layer\")\n",
    "        self.output_bias = Parameter(np.ndarray((dim_output,)), name=\"output_bias\")\n",
    "\n",
    "        self.init_parameters()\n",
    "            \n",
    "    def init_parameters(self):\n",
    "        # TODO\n",
    "        for i in range(len(self.W)):\n",
    "            glorot_init(self.W[i].data)\n",
    "            zero_init(self.b[i].data)\n",
    "            glorot_init(self.output_layer.data)\n",
    "            zero_init(self.output_bias.data)\n",
    "\n",
    "    def forward(self, x):\n",
    "        # TODO\n",
    "        for i in range(len(self.W)):\n",
    "            x = affine_transform(self.W[i], self.b[i], x)\n",
    "            if self.tanh:\n",
    "                x = tanh(x)\n",
    "            else:\n",
    "                x = relu(x)\n",
    "        x = affine_transform(self.output_layer, self.output_bias, x)\n",
    "        return x            \n",
    "           \n",
    "\n",
    "                "
   ]
  },
  {
   "cell_type": "code",
   "execution_count": 36,
   "metadata": {},
   "outputs": [
    {
     "name": "stderr",
     "output_type": "stream",
     "text": [
      "100%|██████████| 50000/50000 [01:43<00:00, 482.49it/s] \n"
     ]
    },
    {
     "name": "stdout",
     "output_type": "stream",
     "text": [
      "Epoch 0, train loss: 12010.329898\n",
      "Train accuracy: 0.926980\n",
      "Dev loss: 0.001049\n",
      "Dev accuracy: 0.958900\n"
     ]
    },
    {
     "name": "stderr",
     "output_type": "stream",
     "text": [
      "100%|██████████| 50000/50000 [01:10<00:00, 711.30it/s] \n"
     ]
    },
    {
     "name": "stdout",
     "output_type": "stream",
     "text": [
      "Epoch 1, train loss: 5550.514833\n",
      "Train accuracy: 0.966200\n",
      "Dev loss: 0.000244\n",
      "Dev accuracy: 0.967700\n"
     ]
    },
    {
     "name": "stderr",
     "output_type": "stream",
     "text": [
      "100%|██████████| 50000/50000 [01:18<00:00, 635.47it/s] \n"
     ]
    },
    {
     "name": "stdout",
     "output_type": "stream",
     "text": [
      "Epoch 2, train loss: 3972.305225\n",
      "Train accuracy: 0.975780\n",
      "Dev loss: 0.000303\n",
      "Dev accuracy: 0.971400\n"
     ]
    },
    {
     "name": "stderr",
     "output_type": "stream",
     "text": [
      "100%|██████████| 50000/50000 [01:04<00:00, 777.99it/s] \n"
     ]
    },
    {
     "name": "stdout",
     "output_type": "stream",
     "text": [
      "Epoch 3, train loss: 3108.737923\n",
      "Train accuracy: 0.980840\n",
      "Dev loss: 0.000323\n",
      "Dev accuracy: 0.974400\n"
     ]
    },
    {
     "name": "stderr",
     "output_type": "stream",
     "text": [
      "100%|██████████| 50000/50000 [01:11<00:00, 696.29it/s] \n"
     ]
    },
    {
     "name": "stdout",
     "output_type": "stream",
     "text": [
      "Epoch 4, train loss: 2345.741884\n",
      "Train accuracy: 0.985440\n",
      "Dev loss: 0.000032\n",
      "Dev accuracy: 0.973900\n"
     ]
    }
   ],
   "source": [
    "dim_input = 28*28\n",
    "dim_output = 10\n",
    "\n",
    "network = DeepNetwork(dim_input, dim_output, 100, 2)\n",
    "optimizer = SGD(network.parameters(), 0.01)\n",
    "\n",
    "training_loop(network, optimizer, train_data, dev_data, n_epochs=5)\n"
   ]
  },
  {
   "cell_type": "markdown",
   "metadata": {},
   "source": [
    "## Bonus\n",
    "\n",
    "You can try to implement a momentum SGD optimizer! Note that you have to keep track of the velocity for each parameter in the optimizer.\n"
   ]
  },
  {
   "cell_type": "code",
   "execution_count": 37,
   "metadata": {},
   "outputs": [],
   "source": [
    "#Momentum SGD optimizer\n",
    "class MomentumSGD:\n",
    "    def __init__(self, params, lr=0.1, momentum=0.9):\n",
    "        self.params = params\n",
    "        self.lr = lr\n",
    "        self.momentum = momentum\n",
    "        self.velocity = [np.zeros_like(p.data) for p in params]\n",
    "        \n",
    "    def step(self):\n",
    "        for i, p in enumerate(self.params):\n",
    "            self.velocity[i] = self.momentum * self.velocity[i] - self.lr * p.gradient\n",
    "            p.data[:] = p.data + self.velocity[i]\n",
    "        \n",
    "    def zero_grad(self):\n",
    "        for p in self.params:\n",
    "            p.zero_grad()"
   ]
  },
  {
   "cell_type": "code",
   "execution_count": 38,
   "metadata": {},
   "outputs": [
    {
     "name": "stderr",
     "output_type": "stream",
     "text": [
      "100%|██████████| 50000/50000 [08:01<00:00, 103.88it/s]\n"
     ]
    },
    {
     "name": "stdout",
     "output_type": "stream",
     "text": [
      "Epoch 0, train loss: 55434.036258\n",
      "Train accuracy: 0.709560\n",
      "Dev loss: 0.000150\n",
      "Dev accuracy: 0.777600\n"
     ]
    },
    {
     "name": "stderr",
     "output_type": "stream",
     "text": [
      "100%|██████████| 50000/50000 [06:25<00:00, 129.56it/s]\n"
     ]
    },
    {
     "name": "stdout",
     "output_type": "stream",
     "text": [
      "Epoch 1, train loss: 54782.194956\n",
      "Train accuracy: 0.720540\n",
      "Dev loss: -0.000000\n",
      "Dev accuracy: 0.738800\n"
     ]
    },
    {
     "name": "stderr",
     "output_type": "stream",
     "text": [
      "100%|██████████| 50000/50000 [04:31<00:00, 184.44it/s]\n"
     ]
    },
    {
     "name": "stdout",
     "output_type": "stream",
     "text": [
      "Epoch 2, train loss: 52445.050665\n",
      "Train accuracy: 0.710120\n",
      "Dev loss: -0.000000\n",
      "Dev accuracy: 0.631100\n"
     ]
    },
    {
     "name": "stderr",
     "output_type": "stream",
     "text": [
      "100%|██████████| 50000/50000 [04:01<00:00, 207.14it/s]\n"
     ]
    },
    {
     "name": "stdout",
     "output_type": "stream",
     "text": [
      "Epoch 3, train loss: 55059.254617\n",
      "Train accuracy: 0.703380\n",
      "Dev loss: 0.000000\n",
      "Dev accuracy: 0.781000\n"
     ]
    },
    {
     "name": "stderr",
     "output_type": "stream",
     "text": [
      "100%|██████████| 50000/50000 [09:40<00:00, 86.10it/s] \n"
     ]
    },
    {
     "name": "stdout",
     "output_type": "stream",
     "text": [
      "Epoch 4, train loss: 53763.124972\n",
      "Train accuracy: 0.717100\n",
      "Dev loss: -0.000000\n",
      "Dev accuracy: 0.649000\n"
     ]
    }
   ],
   "source": [
    "dim_input = 28*28\n",
    "dim_output = 10\n",
    "\n",
    "network = DeepNetwork(dim_input, dim_output, 100, 2)\n",
    "optimizer = MomentumSGD(network.parameters(), 0.01)\n",
    "\n",
    "training_loop(network, optimizer, train_data, dev_data, n_epochs=5)"
   ]
  }
 ],
 "metadata": {
  "kernelspec": {
   "display_name": "Python 3 (ipykernel)",
   "language": "python",
   "name": "python3"
  },
  "language_info": {
   "codemirror_mode": {
    "name": "ipython",
    "version": 3
   },
   "file_extension": ".py",
   "mimetype": "text/x-python",
   "name": "python",
   "nbconvert_exporter": "python",
   "pygments_lexer": "ipython3",
   "version": "3.10.9"
  }
 },
 "nbformat": 4,
 "nbformat_minor": 2
}
